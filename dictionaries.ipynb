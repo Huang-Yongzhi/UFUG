{
 "cells": [
  {
   "cell_type": "code",
   "execution_count": 77,
   "metadata": {},
   "outputs": [
    {
     "data": {
      "text/plain": [
       "[{'name': 'A', 'age': 10, 'color': 'red'},\n",
       " {'name': 'B', 'age': 20, 'color': 'blue'},\n",
       " {'name': 'C', 'age': 15, 'color': 'green'},\n",
       " {'name': 'C', 'age': 16, 'color': 'green'}]"
      ]
     },
     "execution_count": 77,
     "metadata": {},
     "output_type": "execute_result"
    }
   ],
   "source": [
    "friends = [\n",
    "    {\"name\": \"A\", \"age\": 10, \"color\": \"red\"},\n",
    "    {\"name\": \"B\", \"age\": 20, \"color\": \"blue\"},\n",
    "    {\"name\": \"C\", \"age\": 15, \"color\": \"green\"},\n",
    "    {\"name\": \"C\", \"age\": 16, \"color\": \"green\"}\n",
    "]\n",
    "friends"
   ]
  },
  {
   "cell_type": "code",
   "execution_count": 70,
   "metadata": {},
   "outputs": [],
   "source": [
    "def add_person(name, age, color):\n",
    "    print(\"Original data\\n\",  friends)            \n",
    "    person = {\"name\": name, \"age\": age, \"favorite_color\": color, \"type\": 1  }\n",
    "    print (\"Add person\", person )          \n",
    "    friends.append(person)\n",
    "    print(\"Added successfully.\")\n",
    "    print(\"Now the data is \\n\",  friends)\n",
    "\n",
    "# test\n",
    "# add_person(\"D\", 12, \"red\")\n",
    "# friends"
   ]
  },
  {
   "cell_type": "markdown",
   "metadata": {},
   "source": [
    "## 查询是否存在，并且输出出来\n",
    "可以考虑用\n",
    "``````\n",
    "查询目标 in friend.values() for friend in friends\n",
    "``````\n",
    "\n",
    "用any()函数作为判断，如果有true就会返回true\n",
    "\n",
    "\n",
    "\n"
   ]
  },
  {
   "cell_type": "code",
   "execution_count": 80,
   "metadata": {},
   "outputs": [],
   "source": [
    "def search_person(attribute):\n",
    "    \n",
    "    if any(attribute in friend.values() for friend in friends):\n",
    "        print(\"Exist attribute:\", attribute)\n",
    "        print([ friend for friend in friends if attribute in friend.values() ])\n",
    "    else:\n",
    "        print(\"Not exist\", attribute)\n",
    "\n",
    "# exist_person(\"A\") # test\n",
    "# search_person(10)\n",
    "# search_person(\"D\")\n",
    "# search_person(\"C\")\n",
    "\n",
    "\n",
    "def search_people_criteria(criteria, value):\n",
    "    results = []\n",
    "    for person in friends:\n",
    "        if person.get(criteria) == value:\n",
    "            results.append(person)\n",
    "    if results:\n",
    "        print(\"Search results:\")\n",
    "        for person in results:\n",
    "            print(person)\n",
    "    else:\n",
    "        print(\"No matching people found.\")\n",
    "\n"
   ]
  },
  {
   "cell_type": "markdown",
   "metadata": {},
   "source": [
    "## 删除一个人\n",
    "我们使用enumerate()函数来同时获取列表中元素的索引和对应的元素。然后，我们使用列表推导式遍历friends列表中的每个元素，并检查特定名称是否在friend[\"name\"]中。"
   ]
  },
  {
   "cell_type": "code",
   "execution_count": 72,
   "metadata": {},
   "outputs": [],
   "source": [
    "def del_person(name):\n",
    "    for friend in friends:\n",
    "        if friend[\"name\"] == name:\n",
    "            print(\"Original data\\n\",  friends)\n",
    "            print (\"Delete person\", friend )\n",
    "            friends.remove(friend)\n",
    "            print(\"Deleted successfully.\")\n",
    "            print(\"Now the data is \\n\",  friends)\n",
    "            return            \n",
    "        else:\n",
    "            continue\n",
    "    print(\"No such person.\")        \n",
    "            \n",
    "            \n",
    "    # if any(name in friend[\"name\"] for friend in friends):\n",
    "    #     print (\"Delete person\", [friend for friend in friends if friend[\"name\"] == name])\n",
    "    #     print(\"Delete success.\")\n",
    "    # else:\n",
    "    #     print(\"No such person.\")\n",
    "        \n",
    "        \n",
    "# del_person(\"A\")"
   ]
  },
  {
   "cell_type": "code",
   "execution_count": 73,
   "metadata": {},
   "outputs": [
    {
     "name": "stdout",
     "output_type": "stream",
     "text": [
      "[{'name': 'A', 'age': 10, 'color': 'red'}]\n",
      "[{'name': 'A', 'age': 10, 'color': 'red'}, {'name': 'B', 'age': 20, 'color': 'blue'}, {'name': 'C', 'age': 15, 'color': 'green'}, {'name': 'C', 'age': 16, 'color': 'green'}]\n",
      "{'name': 'A', 'age': 10, 'color': 'red'}\n",
      "[{'name': 'A', 'age': 10, 'color': 'red'}, {'name': 'B', 'age': 20, 'color': 'blue'}, {'name': 'C', 'age': 15, 'color': 'green'}, {'name': 'C', 'age': 16, 'color': 'green'}]\n"
     ]
    }
   ],
   "source": [
    "# length = len(friends)\n",
    "# length\n",
    "name = \"A\"\n",
    "# [name in friend[\"name\"] for friend in friends]\n",
    "# print ([friend for friend in friends if friend[\"name\"] == name])\n",
    "\n",
    "# print( [index for index, friend in enumerate(friends) if name in friend[\"name\"]])\n",
    "\n",
    "print ([friend for friend in friends if friend[\"name\"] == name])\n",
    "print(friends)\n",
    "# friends.remove( {friend for friend in friends if friend[\"name\"] == name})\n",
    "\n",
    "matching_friends = [friend for friend in friends if friend[\"name\"] == name]\n",
    "print(matching_friends[0])\n",
    "\n",
    "print(friends)\n",
    "\n"
   ]
  },
  {
   "cell_type": "code",
   "execution_count": 74,
   "metadata": {},
   "outputs": [
    {
     "name": "stdout",
     "output_type": "stream",
     "text": [
      "[{'name': 'Alice', 'age': 25}, {'name': 'Charlie', 'age': 35}]\n"
     ]
    }
   ],
   "source": [
    "my_list = [{\"name\": \"Alice\", \"age\": 25}, {\"name\": \"Bob\", \"age\": 30}, {\"name\": \"Charlie\", \"age\": 35}]\n",
    "dict_to_remove = {\"name\": \"Bob\", \"age\": 30}\n",
    "\n",
    "my_list.remove(dict_to_remove)\n",
    "print(my_list)"
   ]
  },
  {
   "cell_type": "markdown",
   "metadata": {},
   "source": [
    "## Main 函数"
   ]
  },
  {
   "cell_type": "code",
   "execution_count": 81,
   "metadata": {},
   "outputs": [
    {
     "name": "stdout",
     "output_type": "stream",
     "text": [
      "Original data\n",
      " [{'name': 'B', 'age': 20, 'color': 'blue'}, {'name': 'C', 'age': 15, 'color': 'green'}, {'name': 'C', 'age': 16, 'color': 'green'}, {'name': 'A', 'age': 10, 'color': 'red', 'type': 1}, {'name': 'D', 'age': 12, 'color': 'red', 'type': 1}]\n",
      "Add person {'name': 'A', 'age': 10, 'color': 'red', 'type': 1}\n",
      "Add success.\n",
      "Now the data is \n",
      " [{'name': 'B', 'age': 20, 'color': 'blue'}, {'name': 'C', 'age': 15, 'color': 'green'}, {'name': 'C', 'age': 16, 'color': 'green'}, {'name': 'A', 'age': 10, 'color': 'red', 'type': 1}, {'name': 'D', 'age': 12, 'color': 'red', 'type': 1}, {'name': 'A', 'age': 10, 'color': 'red', 'type': 1}]\n",
      "Original data\n",
      " [{'name': 'B', 'age': 20, 'color': 'blue'}, {'name': 'C', 'age': 15, 'color': 'green'}, {'name': 'C', 'age': 16, 'color': 'green'}, {'name': 'A', 'age': 10, 'color': 'red', 'type': 1}, {'name': 'D', 'age': 12, 'color': 'red', 'type': 1}, {'name': 'A', 'age': 10, 'color': 'red', 'type': 1}]\n",
      "Add person {'name': 'D', 'age': 12, 'color': 'red', 'type': 1}\n",
      "Add success.\n",
      "Now the data is \n",
      " [{'name': 'B', 'age': 20, 'color': 'blue'}, {'name': 'C', 'age': 15, 'color': 'green'}, {'name': 'C', 'age': 16, 'color': 'green'}, {'name': 'A', 'age': 10, 'color': 'red', 'type': 1}, {'name': 'D', 'age': 12, 'color': 'red', 'type': 1}, {'name': 'A', 'age': 10, 'color': 'red', 'type': 1}, {'name': 'D', 'age': 12, 'color': 'red', 'type': 1}]\n",
      "Exist attribute: A\n",
      "[{'name': 'A', 'age': 10, 'color': 'red', 'type': 1}, {'name': 'A', 'age': 10, 'color': 'red', 'type': 1}]\n",
      "Exist attribute: 10\n",
      "[{'name': 'A', 'age': 10, 'color': 'red', 'type': 1}, {'name': 'A', 'age': 10, 'color': 'red', 'type': 1}]\n",
      "Not exist E\n",
      "Exist attribute: C\n",
      "[{'name': 'C', 'age': 15, 'color': 'green'}, {'name': 'C', 'age': 16, 'color': 'green'}]\n",
      "Original data\n",
      " [{'name': 'B', 'age': 20, 'color': 'blue'}, {'name': 'C', 'age': 15, 'color': 'green'}, {'name': 'C', 'age': 16, 'color': 'green'}, {'name': 'A', 'age': 10, 'color': 'red', 'type': 1}, {'name': 'D', 'age': 12, 'color': 'red', 'type': 1}, {'name': 'A', 'age': 10, 'color': 'red', 'type': 1}, {'name': 'D', 'age': 12, 'color': 'red', 'type': 1}]\n",
      "Delete person {'name': 'A', 'age': 10, 'color': 'red', 'type': 1}\n",
      "Delete success.\n",
      "Now the data is \n",
      " [{'name': 'B', 'age': 20, 'color': 'blue'}, {'name': 'C', 'age': 15, 'color': 'green'}, {'name': 'C', 'age': 16, 'color': 'green'}, {'name': 'D', 'age': 12, 'color': 'red', 'type': 1}, {'name': 'A', 'age': 10, 'color': 'red', 'type': 1}, {'name': 'D', 'age': 12, 'color': 'red', 'type': 1}]\n",
      "Original data\n",
      " [{'name': 'B', 'age': 20, 'color': 'blue'}, {'name': 'C', 'age': 15, 'color': 'green'}, {'name': 'C', 'age': 16, 'color': 'green'}, {'name': 'D', 'age': 12, 'color': 'red', 'type': 1}, {'name': 'A', 'age': 10, 'color': 'red', 'type': 1}, {'name': 'D', 'age': 12, 'color': 'red', 'type': 1}]\n",
      "Add person {'name': 'John', 'age': 25, 'color': 'Blue', 'type': 1}\n",
      "Add success.\n",
      "Now the data is \n",
      " [{'name': 'B', 'age': 20, 'color': 'blue'}, {'name': 'C', 'age': 15, 'color': 'green'}, {'name': 'C', 'age': 16, 'color': 'green'}, {'name': 'D', 'age': 12, 'color': 'red', 'type': 1}, {'name': 'A', 'age': 10, 'color': 'red', 'type': 1}, {'name': 'D', 'age': 12, 'color': 'red', 'type': 1}, {'name': 'John', 'age': 25, 'color': 'Blue', 'type': 1}]\n",
      "Original data\n",
      " [{'name': 'B', 'age': 20, 'color': 'blue'}, {'name': 'C', 'age': 15, 'color': 'green'}, {'name': 'C', 'age': 16, 'color': 'green'}, {'name': 'D', 'age': 12, 'color': 'red', 'type': 1}, {'name': 'A', 'age': 10, 'color': 'red', 'type': 1}, {'name': 'D', 'age': 12, 'color': 'red', 'type': 1}, {'name': 'John', 'age': 25, 'color': 'Blue', 'type': 1}]\n",
      "Add person {'name': 'Jane', 'age': 30, 'color': 'Green', 'type': 1}\n",
      "Add success.\n",
      "Now the data is \n",
      " [{'name': 'B', 'age': 20, 'color': 'blue'}, {'name': 'C', 'age': 15, 'color': 'green'}, {'name': 'C', 'age': 16, 'color': 'green'}, {'name': 'D', 'age': 12, 'color': 'red', 'type': 1}, {'name': 'A', 'age': 10, 'color': 'red', 'type': 1}, {'name': 'D', 'age': 12, 'color': 'red', 'type': 1}, {'name': 'John', 'age': 25, 'color': 'Blue', 'type': 1}, {'name': 'Jane', 'age': 30, 'color': 'Green', 'type': 1}]\n",
      "Original data\n",
      " [{'name': 'B', 'age': 20, 'color': 'blue'}, {'name': 'C', 'age': 15, 'color': 'green'}, {'name': 'C', 'age': 16, 'color': 'green'}, {'name': 'D', 'age': 12, 'color': 'red', 'type': 1}, {'name': 'A', 'age': 10, 'color': 'red', 'type': 1}, {'name': 'D', 'age': 12, 'color': 'red', 'type': 1}, {'name': 'John', 'age': 25, 'color': 'Blue', 'type': 1}, {'name': 'Jane', 'age': 30, 'color': 'Green', 'type': 1}]\n",
      "Add person {'name': 'Alice', 'age': 35, 'color': 'Blue', 'type': 1}\n",
      "Add success.\n",
      "Now the data is \n",
      " [{'name': 'B', 'age': 20, 'color': 'blue'}, {'name': 'C', 'age': 15, 'color': 'green'}, {'name': 'C', 'age': 16, 'color': 'green'}, {'name': 'D', 'age': 12, 'color': 'red', 'type': 1}, {'name': 'A', 'age': 10, 'color': 'red', 'type': 1}, {'name': 'D', 'age': 12, 'color': 'red', 'type': 1}, {'name': 'John', 'age': 25, 'color': 'Blue', 'type': 1}, {'name': 'Jane', 'age': 30, 'color': 'Green', 'type': 1}, {'name': 'Alice', 'age': 35, 'color': 'Blue', 'type': 1}]\n",
      "Original data\n",
      " [{'name': 'B', 'age': 20, 'color': 'blue'}, {'name': 'C', 'age': 15, 'color': 'green'}, {'name': 'C', 'age': 16, 'color': 'green'}, {'name': 'D', 'age': 12, 'color': 'red', 'type': 1}, {'name': 'A', 'age': 10, 'color': 'red', 'type': 1}, {'name': 'D', 'age': 12, 'color': 'red', 'type': 1}, {'name': 'John', 'age': 25, 'color': 'Blue', 'type': 1}, {'name': 'Jane', 'age': 30, 'color': 'Green', 'type': 1}, {'name': 'Alice', 'age': 35, 'color': 'Blue', 'type': 1}]\n",
      "Add person {'name': 'Bob', 'age': 28, 'color': 'Red', 'type': 1}\n",
      "Add success.\n",
      "Now the data is \n",
      " [{'name': 'B', 'age': 20, 'color': 'blue'}, {'name': 'C', 'age': 15, 'color': 'green'}, {'name': 'C', 'age': 16, 'color': 'green'}, {'name': 'D', 'age': 12, 'color': 'red', 'type': 1}, {'name': 'A', 'age': 10, 'color': 'red', 'type': 1}, {'name': 'D', 'age': 12, 'color': 'red', 'type': 1}, {'name': 'John', 'age': 25, 'color': 'Blue', 'type': 1}, {'name': 'Jane', 'age': 30, 'color': 'Green', 'type': 1}, {'name': 'Alice', 'age': 35, 'color': 'Blue', 'type': 1}, {'name': 'Bob', 'age': 28, 'color': 'Red', 'type': 1}]\n",
      "No matching people found.\n",
      "Search results:\n",
      "{'name': 'John', 'age': 25, 'color': 'Blue', 'type': 1}\n"
     ]
    }
   ],
   "source": [
    "# friends\n",
    "\n",
    "# 添加\n",
    "add_person( \"A\",  10, \"red\")\n",
    "add_person(\"D\", 12, \"red\") \n",
    "\n",
    "# 查找\n",
    "search_person(\"A\")\n",
    "search_person(10)\n",
    "search_person(\"E\")\n",
    "search_person(\"C\")\n",
    "\n",
    "# 删除\n",
    "del_person(\"A\")\n",
    "\n",
    "\n",
    "\n",
    "\n"
   ]
  },
  {
   "cell_type": "code",
   "execution_count": 82,
   "metadata": {},
   "outputs": [
    {
     "name": "stdout",
     "output_type": "stream",
     "text": [
      "Original data\n",
      " [{'name': 'B', 'age': 20, 'color': 'blue'}, {'name': 'C', 'age': 15, 'color': 'green'}, {'name': 'C', 'age': 16, 'color': 'green'}, {'name': 'D', 'age': 12, 'color': 'red', 'type': 1}, {'name': 'A', 'age': 10, 'color': 'red', 'type': 1}, {'name': 'D', 'age': 12, 'color': 'red', 'type': 1}, {'name': 'John', 'age': 25, 'color': 'Blue', 'type': 1}, {'name': 'Jane', 'age': 30, 'color': 'Green', 'type': 1}, {'name': 'Alice', 'age': 35, 'color': 'Blue', 'type': 1}, {'name': 'Bob', 'age': 28, 'color': 'Red', 'type': 1}]\n",
      "Add person {'name': 'John', 'age': 25, 'color': 'Blue', 'type': 1}\n",
      "Add success.\n",
      "Now the data is \n",
      " [{'name': 'B', 'age': 20, 'color': 'blue'}, {'name': 'C', 'age': 15, 'color': 'green'}, {'name': 'C', 'age': 16, 'color': 'green'}, {'name': 'D', 'age': 12, 'color': 'red', 'type': 1}, {'name': 'A', 'age': 10, 'color': 'red', 'type': 1}, {'name': 'D', 'age': 12, 'color': 'red', 'type': 1}, {'name': 'John', 'age': 25, 'color': 'Blue', 'type': 1}, {'name': 'Jane', 'age': 30, 'color': 'Green', 'type': 1}, {'name': 'Alice', 'age': 35, 'color': 'Blue', 'type': 1}, {'name': 'Bob', 'age': 28, 'color': 'Red', 'type': 1}, {'name': 'John', 'age': 25, 'color': 'Blue', 'type': 1}]\n",
      "Original data\n",
      " [{'name': 'B', 'age': 20, 'color': 'blue'}, {'name': 'C', 'age': 15, 'color': 'green'}, {'name': 'C', 'age': 16, 'color': 'green'}, {'name': 'D', 'age': 12, 'color': 'red', 'type': 1}, {'name': 'A', 'age': 10, 'color': 'red', 'type': 1}, {'name': 'D', 'age': 12, 'color': 'red', 'type': 1}, {'name': 'John', 'age': 25, 'color': 'Blue', 'type': 1}, {'name': 'Jane', 'age': 30, 'color': 'Green', 'type': 1}, {'name': 'Alice', 'age': 35, 'color': 'Blue', 'type': 1}, {'name': 'Bob', 'age': 28, 'color': 'Red', 'type': 1}, {'name': 'John', 'age': 25, 'color': 'Blue', 'type': 1}]\n",
      "Add person {'name': 'Jane', 'age': 30, 'color': 'Green', 'type': 1}\n",
      "Add success.\n",
      "Now the data is \n",
      " [{'name': 'B', 'age': 20, 'color': 'blue'}, {'name': 'C', 'age': 15, 'color': 'green'}, {'name': 'C', 'age': 16, 'color': 'green'}, {'name': 'D', 'age': 12, 'color': 'red', 'type': 1}, {'name': 'A', 'age': 10, 'color': 'red', 'type': 1}, {'name': 'D', 'age': 12, 'color': 'red', 'type': 1}, {'name': 'John', 'age': 25, 'color': 'Blue', 'type': 1}, {'name': 'Jane', 'age': 30, 'color': 'Green', 'type': 1}, {'name': 'Alice', 'age': 35, 'color': 'Blue', 'type': 1}, {'name': 'Bob', 'age': 28, 'color': 'Red', 'type': 1}, {'name': 'John', 'age': 25, 'color': 'Blue', 'type': 1}, {'name': 'Jane', 'age': 30, 'color': 'Green', 'type': 1}]\n",
      "Original data\n",
      " [{'name': 'B', 'age': 20, 'color': 'blue'}, {'name': 'C', 'age': 15, 'color': 'green'}, {'name': 'C', 'age': 16, 'color': 'green'}, {'name': 'D', 'age': 12, 'color': 'red', 'type': 1}, {'name': 'A', 'age': 10, 'color': 'red', 'type': 1}, {'name': 'D', 'age': 12, 'color': 'red', 'type': 1}, {'name': 'John', 'age': 25, 'color': 'Blue', 'type': 1}, {'name': 'Jane', 'age': 30, 'color': 'Green', 'type': 1}, {'name': 'Alice', 'age': 35, 'color': 'Blue', 'type': 1}, {'name': 'Bob', 'age': 28, 'color': 'Red', 'type': 1}, {'name': 'John', 'age': 25, 'color': 'Blue', 'type': 1}, {'name': 'Jane', 'age': 30, 'color': 'Green', 'type': 1}]\n",
      "Add person {'name': 'Alice', 'age': 35, 'color': 'Blue', 'type': 1}\n",
      "Add success.\n",
      "Now the data is \n",
      " [{'name': 'B', 'age': 20, 'color': 'blue'}, {'name': 'C', 'age': 15, 'color': 'green'}, {'name': 'C', 'age': 16, 'color': 'green'}, {'name': 'D', 'age': 12, 'color': 'red', 'type': 1}, {'name': 'A', 'age': 10, 'color': 'red', 'type': 1}, {'name': 'D', 'age': 12, 'color': 'red', 'type': 1}, {'name': 'John', 'age': 25, 'color': 'Blue', 'type': 1}, {'name': 'Jane', 'age': 30, 'color': 'Green', 'type': 1}, {'name': 'Alice', 'age': 35, 'color': 'Blue', 'type': 1}, {'name': 'Bob', 'age': 28, 'color': 'Red', 'type': 1}, {'name': 'John', 'age': 25, 'color': 'Blue', 'type': 1}, {'name': 'Jane', 'age': 30, 'color': 'Green', 'type': 1}, {'name': 'Alice', 'age': 35, 'color': 'Blue', 'type': 1}]\n",
      "Original data\n",
      " [{'name': 'B', 'age': 20, 'color': 'blue'}, {'name': 'C', 'age': 15, 'color': 'green'}, {'name': 'C', 'age': 16, 'color': 'green'}, {'name': 'D', 'age': 12, 'color': 'red', 'type': 1}, {'name': 'A', 'age': 10, 'color': 'red', 'type': 1}, {'name': 'D', 'age': 12, 'color': 'red', 'type': 1}, {'name': 'John', 'age': 25, 'color': 'Blue', 'type': 1}, {'name': 'Jane', 'age': 30, 'color': 'Green', 'type': 1}, {'name': 'Alice', 'age': 35, 'color': 'Blue', 'type': 1}, {'name': 'Bob', 'age': 28, 'color': 'Red', 'type': 1}, {'name': 'John', 'age': 25, 'color': 'Blue', 'type': 1}, {'name': 'Jane', 'age': 30, 'color': 'Green', 'type': 1}, {'name': 'Alice', 'age': 35, 'color': 'Blue', 'type': 1}]\n",
      "Add person {'name': 'Bob', 'age': 28, 'color': 'Red', 'type': 1}\n",
      "Add success.\n",
      "Now the data is \n",
      " [{'name': 'B', 'age': 20, 'color': 'blue'}, {'name': 'C', 'age': 15, 'color': 'green'}, {'name': 'C', 'age': 16, 'color': 'green'}, {'name': 'D', 'age': 12, 'color': 'red', 'type': 1}, {'name': 'A', 'age': 10, 'color': 'red', 'type': 1}, {'name': 'D', 'age': 12, 'color': 'red', 'type': 1}, {'name': 'John', 'age': 25, 'color': 'Blue', 'type': 1}, {'name': 'Jane', 'age': 30, 'color': 'Green', 'type': 1}, {'name': 'Alice', 'age': 35, 'color': 'Blue', 'type': 1}, {'name': 'Bob', 'age': 28, 'color': 'Red', 'type': 1}, {'name': 'John', 'age': 25, 'color': 'Blue', 'type': 1}, {'name': 'Jane', 'age': 30, 'color': 'Green', 'type': 1}, {'name': 'Alice', 'age': 35, 'color': 'Blue', 'type': 1}, {'name': 'Bob', 'age': 28, 'color': 'Red', 'type': 1}]\n",
      "No matching people found.\n",
      "Search results:\n",
      "{'name': 'John', 'age': 25, 'color': 'Blue', 'type': 1}\n",
      "{'name': 'John', 'age': 25, 'color': 'Blue', 'type': 1}\n"
     ]
    }
   ],
   "source": [
    "\n",
    "# Example usage\n",
    "add_person(\"John\", 25, \"Blue\")\n",
    "add_person(\"Jane\", 30, \"Green\")\n",
    "add_person(\"Alice\", 35, \"Blue\")\n",
    "add_person(\"Bob\", 28, \"Red\")\n",
    "\n",
    "search_people_criteria (\"favorite_color\", \"Blue\")\n",
    "search_people_criteria (\"age\", 25)"
   ]
  },
  {
   "cell_type": "code",
   "execution_count": 86,
   "metadata": {},
   "outputs": [
    {
     "name": "stdout",
     "output_type": "stream",
     "text": [
      "*\n",
      "**\n",
      "***\n",
      "****\n",
      "*****\n",
      "****\n",
      "***\n",
      "**\n",
      "*\n"
     ]
    }
   ],
   "source": [
    "n = int(input()) # 接受最长处\n",
    "i = 1\n",
    "d = 1\n",
    "\n",
    "while i in range(1, n+1):# 使i达到n后一步一步返回1，减少while次数\n",
    "    j = 1\n",
    "    while j <= i:\n",
    "        print(\"*\", end=\"\")\n",
    "        j += 1\n",
    "    print()\n",
    "\n",
    "    if i == n: # 当i达到n，使i开始减少直到1\n",
    "        d = -1\n",
    "    i += d\n",
    "\n"
   ]
  }
 ],
 "metadata": {
  "kernelspec": {
   "display_name": "ven",
   "language": "python",
   "name": "python3"
  },
  "language_info": {
   "codemirror_mode": {
    "name": "ipython",
    "version": 3
   },
   "file_extension": ".py",
   "mimetype": "text/x-python",
   "name": "python",
   "nbconvert_exporter": "python",
   "pygments_lexer": "ipython3",
   "version": "3.11.2"
  }
 },
 "nbformat": 4,
 "nbformat_minor": 2
}
