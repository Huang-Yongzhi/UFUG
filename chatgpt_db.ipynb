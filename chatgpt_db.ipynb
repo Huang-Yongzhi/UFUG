{
 "cells": [
  {
   "cell_type": "code",
   "execution_count": 2,
   "metadata": {},
   "outputs": [
    {
     "name": "stdout",
     "output_type": "stream",
     "text": [
      "{'I': {'love': 3},\n",
      " 'Romeo': {'Juliet': 1},\n",
      " 'love': {'python': 1, 'you': 2},\n",
      " 'much': {'I': 1},\n",
      " 'python': {'I': 1},\n",
      " 'very': {'much': 1},\n",
      " 'you': {'very': 2}}\n"
     ]
    },
    {
     "data": {
      "text/plain": [
       "'you very much I love python I love you very much I love python I love you very much I love you very much I love python I love you'"
      ]
     },
     "execution_count": 2,
     "metadata": {},
     "output_type": "execute_result"
    }
   ],
   "source": [
    "import pprint\n",
    "import random\n",
    "\n",
    "# Sample text\n",
    "sample_text = \"I love python I love you very much I love you very\"\n",
    "\n",
    "# Function to tokenize text\n",
    "def tokenize(text):\n",
    "    words = text.split(\" \")\n",
    "    return words\n",
    "\n",
    "# Function to build a simple word-pair probability database\n",
    "def build_GPT_DB(sentences, db):\n",
    "    words = tokenize(sentences)\n",
    "    for i in range(len(words)-1):\n",
    "        first_word = words[i]\n",
    "        second_word = words[i+1]\n",
    "\n",
    "        if first_word in db:\n",
    "            prob_dict = db[first_word]\n",
    "            if second_word in prob_dict:\n",
    "                prob_dict[second_word] += 1\n",
    "            else:\n",
    "                prob_dict[second_word] = 1\n",
    "        else:\n",
    "            db[first_word] = {second_word: 1}\n",
    "\n",
    "# Function to select a word from a sorted list based on probability\n",
    "def select_top_from_list(sorted_prob_dict, top):\n",
    "    min_val = min(top, len(sorted_prob_dict))\n",
    "    ran_num = random.randint(0, min_val-1)\n",
    "    return sorted_prob_dict[ran_num][0]\n",
    "\n",
    "# Function to infer next words based on the first word\n",
    "def infer(first_word, db, num_words):\n",
    "    generated_text = []\n",
    "    for i in range(num_words):\n",
    "        if first_word in db:\n",
    "            prob_dict = db[first_word]\n",
    "            sorted_prob_dict = sorted(prob_dict.items(), key=lambda x: x[1], reverse=True)\n",
    "            next_word = select_top_from_list(sorted_prob_dict, 3)\n",
    "            generated_text.append(next_word)\n",
    "            first_word = next_word\n",
    "    return ' '.join(generated_text)\n",
    "\n",
    "# Building the database\n",
    "GPT_DB = {}\n",
    "build_GPT_DB(sample_text, GPT_DB)\n",
    "build_GPT_DB(\"Romeo Juliet\", GPT_DB)\n",
    "\n",
    "# Print the database\n",
    "pprint.pprint(GPT_DB)\n",
    "\n",
    "# Generate text\n",
    "seed = \"love\"\n",
    "generated_text = infer(seed, GPT_DB, 30)\n",
    "generated_text\n",
    "\n"
   ]
  }
 ],
 "metadata": {
  "kernelspec": {
   "display_name": "test_env",
   "language": "python",
   "name": "python3"
  },
  "language_info": {
   "codemirror_mode": {
    "name": "ipython",
    "version": 3
   },
   "file_extension": ".py",
   "mimetype": "text/x-python",
   "name": "python",
   "nbconvert_exporter": "python",
   "pygments_lexer": "ipython3",
   "version": "3.12.0"
  }
 },
 "nbformat": 4,
 "nbformat_minor": 2
}
